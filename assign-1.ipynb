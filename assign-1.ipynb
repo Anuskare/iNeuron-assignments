{
 "cells": [
  {
   "cell_type": "markdown",
   "metadata": {},
   "source": [
    "Program to find all numbers divisible by 7 (no%7==0)\n",
    "but are not multiple of 5 (no%5!=0)\n",
    "input---2000 to 3000\n",
    "output--comma separated sequence on a single line"
   ]
  },
  {
   "cell_type": "code",
   "execution_count": 3,
   "metadata": {},
   "outputs": [
    {
     "name": "stdout",
     "output_type": "stream",
     "text": [
      "2002,2009,2016,2023,2037,2044,2051,2058,2072,2079,2086,2093,2107,2114,2121,2128,2142,2149,2156,2163,2177,2184,2191,2198,2212,2219,2226,2233,2247,2254,2261,2268,2282,2289,2296,2303,2317,2324,2331,2338,2352,2359,2366,2373,2387,2394,2401,2408,2422,2429,2436,2443,2457,2464,2471,2478,2492,2499,2506,2513,2527,2534,2541,2548,2562,2569,2576,2583,2597,2604,2611,2618,2632,2639,2646,2653,2667,2674,2681,2688,2702,2709,2716,2723,2737,2744,2751,2758,2772,2779,2786,2793,2807,2814,2821,2828,2842,2849,2856,2863,2877,2884,2891,2898,2912,2919,2926,2933,2947,2954,2961,2968,2982,2989,2996,"
     ]
    }
   ],
   "source": [
    "# dfgfhgtrd    ctrl+/\n",
    "# dfgtr\n",
    "\n",
    "l1=list(range(2000,3001))\n",
    "for i in l1:\n",
    "    if (i%7 == 0 and i%5 != 0):\n",
    "        print(i,end=',')\n",
    "        "
   ]
  },
  {
   "cell_type": "markdown",
   "metadata": {},
   "source": [
    "Program to accept the user's first and last name and then getting them printed in the the reverse order with a space between first name and last name"
   ]
  },
  {
   "cell_type": "code",
   "execution_count": 1,
   "metadata": {},
   "outputs": [
    {
     "data": {
      "text/plain": [
       "'ahsunA'"
      ]
     },
     "execution_count": 1,
     "metadata": {},
     "output_type": "execute_result"
    }
   ],
   "source": [
    "uname='Anusha'\n",
    "uname[::-1]"
   ]
  },
  {
   "cell_type": "code",
   "execution_count": 2,
   "metadata": {},
   "outputs": [
    {
     "data": {
      "text/plain": [
       "2"
      ]
     },
     "execution_count": 2,
     "metadata": {},
     "output_type": "execute_result"
    }
   ],
   "source": [
    "'hello'.count('l')"
   ]
  },
  {
   "cell_type": "code",
   "execution_count": null,
   "metadata": {},
   "outputs": [],
   "source": []
  },
  {
   "cell_type": "code",
   "execution_count": 26,
   "metadata": {},
   "outputs": [
    {
     "data": {
      "text/plain": [
       "'Devi Anu'"
      ]
     },
     "execution_count": 26,
     "metadata": {},
     "output_type": "execute_result"
    }
   ],
   "source": [
    "uname='Anu Devi'\n",
    "l1=uname.split()\n",
    "' '.join(l1[::-1])"
   ]
  },
  {
   "cell_type": "code",
   "execution_count": 30,
   "metadata": {},
   "outputs": [
    {
     "name": "stdout",
     "output_type": "stream",
     "text": [
      "Enter user first name and last name   Anu usha Devi\n",
      "iveD ahsu unA\n"
     ]
    }
   ],
   "source": [
    "uname = input(\"Enter user first name and last name   \")\n",
    "st=''\n",
    "\n",
    "for i in uname[::-1]:\n",
    "    if i != ' ':\n",
    "        st = st + i\n",
    "    else:\n",
    "        st = st + ' '\n",
    "print(st) "
   ]
  },
  {
   "cell_type": "code",
   "execution_count": 3,
   "metadata": {},
   "outputs": [
    {
     "name": "stdout",
     "output_type": "stream",
     "text": [
      "Enter First name and last name   I am Anusha Kare\n",
      " Kare Anusha am I\n"
     ]
    }
   ],
   "source": [
    "str1 = input(\"Enter First name and last name   \")\n",
    "st=''\n",
    "i=len(str1)-1\n",
    "\n",
    "while i >= 0:\n",
    "    \n",
    "    if str1[i] == ' ':\n",
    "        i-=1\n",
    "        break\n",
    "    \n",
    "    ctr=1\n",
    "    while str1[i] != ' ':\n",
    "        ctr += 1\n",
    "        i -= 1\n",
    "    \n",
    "    st = st + str1[i:i+ctr]\n",
    "    i-=1\n",
    "    \n",
    "if i<0:\n",
    "    st = st +' '+ str1[0:i+ctr+1]\n",
    "    \n",
    "print(st)    "
   ]
  },
  {
   "cell_type": "markdown",
   "metadata": {},
   "source": [
    "Program to find the volume of a sphere with diameter 12 cm.\n",
    "Formula: V=4/3 * π * r"
   ]
  },
  {
   "cell_type": "code",
   "execution_count": 19,
   "metadata": {},
   "outputs": [
    {
     "name": "stdout",
     "output_type": "stream",
     "text": [
      "Volume of Sphere with diameter 12.0 cm is 25.12 \n"
     ]
    }
   ],
   "source": [
    "dm = 12\n",
    "Vol = (4/3) * 3.14 * (dm/2)\n",
    "print(\"Volume of Sphere with diameter {0:.1f} cm is {1:.2f} \".format(dm,Vol))"
   ]
  },
  {
   "cell_type": "code",
   "execution_count": null,
   "metadata": {},
   "outputs": [],
   "source": []
  },
  {
   "cell_type": "code",
   "execution_count": null,
   "metadata": {},
   "outputs": [],
   "source": []
  },
  {
   "cell_type": "code",
   "execution_count": null,
   "metadata": {},
   "outputs": [],
   "source": []
  }
 ],
 "metadata": {
  "kernelspec": {
   "display_name": "Python 3",
   "language": "python",
   "name": "python3"
  },
  "language_info": {
   "codemirror_mode": {
    "name": "ipython",
    "version": 3
   },
   "file_extension": ".py",
   "mimetype": "text/x-python",
   "name": "python",
   "nbconvert_exporter": "python",
   "pygments_lexer": "ipython3",
   "version": "3.7.6"
  }
 },
 "nbformat": 4,
 "nbformat_minor": 4
}
