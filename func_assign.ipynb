{
 "cells": [
  {
   "cell_type": "code",
   "execution_count": 1,
   "metadata": {},
   "outputs": [],
   "source": [
    "def vol(rad):\n",
    "    return (4/3)*(22/7)*(rad**3)"
   ]
  },
  {
   "cell_type": "code",
   "execution_count": 2,
   "metadata": {},
   "outputs": [
    {
     "data": {
      "text/plain": [
       "33.52380952380952"
      ]
     },
     "execution_count": 2,
     "metadata": {},
     "output_type": "execute_result"
    }
   ],
   "source": [
    "vol(2)"
   ]
  },
  {
   "cell_type": "code",
   "execution_count": 33,
   "metadata": {},
   "outputs": [],
   "source": [
    "def vol(rad):\n",
    "    return (4/3)*(3.14)*(rad**3)"
   ]
  },
  {
   "cell_type": "code",
   "execution_count": 34,
   "metadata": {},
   "outputs": [
    {
     "data": {
      "text/plain": [
       "33.49333333333333"
      ]
     },
     "execution_count": 34,
     "metadata": {},
     "output_type": "execute_result"
    }
   ],
   "source": [
    "vol(2)"
   ]
  },
  {
   "cell_type": "code",
   "execution_count": 30,
   "metadata": {},
   "outputs": [],
   "source": [
    "def ran_check(num,low,high):\n",
    "    #Check if num is between low and high (including low and high)\n",
    "    if num in range(low,high+1):\n",
    "        print('{} is in the range between {} and {}'.format(num,low,high))\n",
    "    else:\n",
    "        print('The number is outside the range.')"
   ]
  },
  {
   "cell_type": "code",
   "execution_count": 31,
   "metadata": {},
   "outputs": [
    {
     "name": "stdout",
     "output_type": "stream",
     "text": [
      "5 is in the range between 2 and 7\n"
     ]
    }
   ],
   "source": [
    "ran_check(5,2,7)"
   ]
  },
  {
   "cell_type": "code",
   "execution_count": 32,
   "metadata": {},
   "outputs": [
    {
     "name": "stdout",
     "output_type": "stream",
     "text": [
      "The number is outside the range.\n"
     ]
    }
   ],
   "source": [
    "ran_check(5,6,15)"
   ]
  },
  {
   "cell_type": "code",
   "execution_count": 3,
   "metadata": {},
   "outputs": [],
   "source": [
    "def ran_check(num,low,high):\n",
    "    if(num>low and num<high):\n",
    "        print(num,f' is in the range of {low} and {high}')\n",
    "    else:\n",
    "        print(num,f' is not in the range of {low} and {high}')"
   ]
  },
  {
   "cell_type": "code",
   "execution_count": 4,
   "metadata": {},
   "outputs": [
    {
     "name": "stdout",
     "output_type": "stream",
     "text": [
      "5  is in the range of 2 and 7\n"
     ]
    }
   ],
   "source": [
    "ran_check(5,2,7)"
   ]
  },
  {
   "cell_type": "code",
   "execution_count": 5,
   "metadata": {},
   "outputs": [
    {
     "name": "stdout",
     "output_type": "stream",
     "text": [
      "5  is not in the range of 6 and 15\n"
     ]
    }
   ],
   "source": [
    "ran_check(5,6,15)"
   ]
  },
  {
   "cell_type": "code",
   "execution_count": 6,
   "metadata": {},
   "outputs": [],
   "source": [
    "def ran_bool(num,low,high):\n",
    "     if(num>low and num<high):\n",
    "        return True\n",
    "     else:\n",
    "        return False"
   ]
  },
  {
   "cell_type": "code",
   "execution_count": 7,
   "metadata": {},
   "outputs": [
    {
     "data": {
      "text/plain": [
       "True"
      ]
     },
     "execution_count": 7,
     "metadata": {},
     "output_type": "execute_result"
    }
   ],
   "source": [
    "ran_bool(3,1,10)"
   ]
  },
  {
   "cell_type": "code",
   "execution_count": 8,
   "metadata": {},
   "outputs": [
    {
     "data": {
      "text/plain": [
       "False"
      ]
     },
     "execution_count": 8,
     "metadata": {},
     "output_type": "execute_result"
    }
   ],
   "source": [
    "ran_bool(5,6,15)"
   ]
  },
  {
   "cell_type": "code",
   "execution_count": 35,
   "metadata": {},
   "outputs": [],
   "source": [
    "def ran_bool(num,low,high):\n",
    "    return num in range(low,high+1)"
   ]
  },
  {
   "cell_type": "code",
   "execution_count": 36,
   "metadata": {},
   "outputs": [
    {
     "data": {
      "text/plain": [
       "True"
      ]
     },
     "execution_count": 36,
     "metadata": {},
     "output_type": "execute_result"
    }
   ],
   "source": [
    "ran_bool(3,1,10)"
   ]
  },
  {
   "cell_type": "code",
   "execution_count": 37,
   "metadata": {},
   "outputs": [
    {
     "data": {
      "text/plain": [
       "False"
      ]
     },
     "execution_count": 37,
     "metadata": {},
     "output_type": "execute_result"
    }
   ],
   "source": [
    "ran_bool(12,1,10)"
   ]
  },
  {
   "cell_type": "markdown",
   "metadata": {},
   "source": [
    "Python function that accepts a string and calculates the number of upper case letters and lower case letters."
   ]
  },
  {
   "cell_type": "code",
   "execution_count": 20,
   "metadata": {},
   "outputs": [],
   "source": [
    "up=[]\n",
    "low=[]\n",
    "def up_low(s):\n",
    "    stl=s.split()\n",
    "    ctr=0\n",
    "    while ctr<len(stl):\n",
    "        for i in stl[ctr]:\n",
    "            if i.isupper():\n",
    "                up.append(i)\n",
    "            elif i.islower():\n",
    "                low.append(i)\n",
    "        ctr+=1\n",
    "    \n",
    "    print('No. of Upper case characters : ',len(up))\n",
    "    print('No. of Lower case Characters : ',len(low))    \n",
    "    "
   ]
  },
  {
   "cell_type": "code",
   "execution_count": 21,
   "metadata": {},
   "outputs": [
    {
     "name": "stdout",
     "output_type": "stream",
     "text": [
      "No. of Upper case characters :  4\n",
      "No. of Lower case Characters :  33\n"
     ]
    }
   ],
   "source": [
    "s = 'Hello Mr. Rogers, how are you this fine Tuesday?'\n",
    "up_low(s)"
   ]
  },
  {
   "cell_type": "code",
   "execution_count": 38,
   "metadata": {},
   "outputs": [],
   "source": [
    "def up_low(s):\n",
    "    d={\"upper\":0, \"lower\":0}\n",
    "    for c in s:\n",
    "        if c.isupper():\n",
    "            d[\"upper\"]+=1\n",
    "        elif c.islower():\n",
    "            d[\"lower\"]+=1\n",
    "        else:\n",
    "            pass\n",
    "    print(\"Original String : \", s)\n",
    "    print(\"No. of Upper case characters : \", d[\"upper\"])\n",
    "    print(\"No. of Lower case Characters : \", d[\"lower\"])"
   ]
  },
  {
   "cell_type": "code",
   "execution_count": 39,
   "metadata": {},
   "outputs": [
    {
     "name": "stdout",
     "output_type": "stream",
     "text": [
      "Original String :  Hello Mr. Rogers, how are you this fine Tuesday?\n",
      "No. of Upper case characters :  4\n",
      "No. of Lower case Characters :  33\n"
     ]
    }
   ],
   "source": [
    "s = 'Hello Mr. Rogers, how are you this fine Tuesday?'\n",
    "up_low(s)"
   ]
  },
  {
   "cell_type": "markdown",
   "metadata": {},
   "source": [
    "Python function that removes dulicates from the list and returns unique elements of the list."
   ]
  },
  {
   "cell_type": "code",
   "execution_count": 24,
   "metadata": {},
   "outputs": [],
   "source": [
    "def unique_list(lst):\n",
    "    ul=[]\n",
    "    for i in lst:\n",
    "        if i not in ul:\n",
    "            ul.append(i)\n",
    "    return ul"
   ]
  },
  {
   "cell_type": "code",
   "execution_count": 25,
   "metadata": {},
   "outputs": [
    {
     "data": {
      "text/plain": [
       "[1, 2, 3, 4, 5]"
      ]
     },
     "execution_count": 25,
     "metadata": {},
     "output_type": "execute_result"
    }
   ],
   "source": [
    "unique_list([1,1,1,1,2,2,3,3,3,3,4,5])"
   ]
  },
  {
   "cell_type": "code",
   "execution_count": 40,
   "metadata": {},
   "outputs": [],
   "source": [
    "def multiply(numbers): \n",
    "    pro=1\n",
    "    for i in numbers:\n",
    "        pro = pro * i\n",
    "        # pro *= i\n",
    "    return pro"
   ]
  },
  {
   "cell_type": "code",
   "execution_count": 41,
   "metadata": {},
   "outputs": [
    {
     "data": {
      "text/plain": [
       "-24"
      ]
     },
     "execution_count": 41,
     "metadata": {},
     "output_type": "execute_result"
    }
   ],
   "source": [
    "multiply([1,2,3,-4])"
   ]
  },
  {
   "cell_type": "markdown",
   "metadata": {},
   "source": [
    "palindrome or not\n",
    "\n",
    "A palindrome is word, phrase, or sequence that reads the same backward as forward, e.g., madam,kayak,racecar,malayalam \n",
    "\n",
    "\n",
    "\n",
    "You may want to check out the .replace() method in a string to help out with dealing with spaces. Also google search how to reverse a string in Python, there are some clever ways to do it with slicing notation."
   ]
  },
  {
   "cell_type": "code",
   "execution_count": 49,
   "metadata": {},
   "outputs": [],
   "source": [
    "#for word\n",
    "def palindrome(s):\n",
    "    if s==s[::-1]:\n",
    "        return True\n",
    "    else:\n",
    "        return False"
   ]
  },
  {
   "cell_type": "code",
   "execution_count": 50,
   "metadata": {},
   "outputs": [
    {
     "data": {
      "text/plain": [
       "False"
      ]
     },
     "execution_count": 50,
     "metadata": {},
     "output_type": "execute_result"
    }
   ],
   "source": [
    "palindrome('holre')"
   ]
  },
  {
   "cell_type": "code",
   "execution_count": 51,
   "metadata": {},
   "outputs": [
    {
     "data": {
      "text/plain": [
       "True"
      ]
     },
     "execution_count": 51,
     "metadata": {},
     "output_type": "execute_result"
    }
   ],
   "source": [
    "palindrome('helleh')"
   ]
  },
  {
   "cell_type": "code",
   "execution_count": 26,
   "metadata": {},
   "outputs": [],
   "source": [
    "# for sentence   Was it a car or a cat I saw\n",
    "def palindrome(s):\n",
    "    s=s.lower()\n",
    "    ns=''\n",
    "    for i in s:\n",
    "        if i!=' ':\n",
    "            ns=i+ns\n",
    "    if ns==ns[::-1]:\n",
    "        return True\n",
    "    else:\n",
    "        return False       "
   ]
  },
  {
   "cell_type": "code",
   "execution_count": 27,
   "metadata": {},
   "outputs": [
    {
     "data": {
      "text/plain": [
       "True"
      ]
     },
     "execution_count": 27,
     "metadata": {},
     "output_type": "execute_result"
    }
   ],
   "source": [
    "palindrome(\"Was it a car or a cat I saw\")"
   ]
  },
  {
   "cell_type": "code",
   "execution_count": 29,
   "metadata": {},
   "outputs": [
    {
     "data": {
      "text/plain": [
       "False"
      ]
     },
     "execution_count": 29,
     "metadata": {},
     "output_type": "execute_result"
    }
   ],
   "source": [
    "palindrome(\"Was it a hat or a cat I saw\")"
   ]
  },
  {
   "cell_type": "code",
   "execution_count": 43,
   "metadata": {},
   "outputs": [],
   "source": [
    "def palindrome(s):\n",
    "    s=s.lower()\n",
    "    s = s.replace(' ','') # This replaces all spaces ' ' with no space ''. (Fixes issues with strings that have spaces)\n",
    "    return s == s[::-1] "
   ]
  },
  {
   "cell_type": "code",
   "execution_count": 44,
   "metadata": {},
   "outputs": [
    {
     "data": {
      "text/plain": [
       "True"
      ]
     },
     "execution_count": 44,
     "metadata": {},
     "output_type": "execute_result"
    }
   ],
   "source": [
    "palindrome('nurses run')"
   ]
  },
  {
   "cell_type": "code",
   "execution_count": 45,
   "metadata": {},
   "outputs": [
    {
     "data": {
      "text/plain": [
       "True"
      ]
     },
     "execution_count": 45,
     "metadata": {},
     "output_type": "execute_result"
    }
   ],
   "source": [
    "palindrome('Katak')"
   ]
  },
  {
   "cell_type": "code",
   "execution_count": 46,
   "metadata": {},
   "outputs": [
    {
     "data": {
      "text/plain": [
       "False"
      ]
     },
     "execution_count": 46,
     "metadata": {},
     "output_type": "execute_result"
    }
   ],
   "source": [
    "palindrome('Let us c')"
   ]
  },
  {
   "cell_type": "markdown",
   "metadata": {},
   "source": [
    "[string module](https://stackoverflow.com/questions/16060899/alphabet-range-in-python)\n",
    "\n",
    "[set comparisons](https://medium.com/better-programming/a-visual-guide-to-set-comparisons-in-python-6ab7edb9ec41)"
   ]
  },
  {
   "cell_type": "code",
   "execution_count": null,
   "metadata": {},
   "outputs": [],
   "source": [
    "string.ascii_lowercase"
   ]
  },
  {
   "cell_type": "code",
   "execution_count": 57,
   "metadata": {},
   "outputs": [],
   "source": [
    "#pangram or not. \n",
    "#pangram is string which does not have any punctuationimport string\n",
    "import string\n",
    "\n",
    "def ispangram(str1, alphabet=string.ascii_lowercase): \n",
    "    # Create a set of the alphabet\n",
    "    alphaset = set(alphabet)  \n",
    "    \n",
    "    # Remove spaces from str1\n",
    "    str1 = str1.replace(\" \",'')\n",
    "    \n",
    "    # Lowercase all strings in the passed in string\n",
    "    # Recall we assume no punctuation \n",
    "    str1 = str1.lower()\n",
    "    \n",
    "    # Grab all unique letters in the string as a set\n",
    "    str1 = set(str1)\n",
    "    \n",
    "    # Now check that the alpahbet set is same as string set\n",
    "    return str1 == alphaset\n"
   ]
  },
  {
   "cell_type": "code",
   "execution_count": 58,
   "metadata": {},
   "outputs": [
    {
     "data": {
      "text/plain": [
       "True"
      ]
     },
     "execution_count": 58,
     "metadata": {},
     "output_type": "execute_result"
    }
   ],
   "source": [
    "ispangram(\"The quick brown fox jumps over the lazy dog\")"
   ]
  },
  {
   "cell_type": "code",
   "execution_count": 59,
   "metadata": {},
   "outputs": [
    {
     "data": {
      "text/plain": [
       "False"
      ]
     },
     "execution_count": 59,
     "metadata": {},
     "output_type": "execute_result"
    }
   ],
   "source": [
    "ispangram(\"The quick brown fox, jumps over the lazy dog!\")"
   ]
  }
 ],
 "metadata": {
  "kernelspec": {
   "display_name": "Python 3 (ipykernel)",
   "language": "python",
   "name": "python3"
  },
  "language_info": {
   "codemirror_mode": {
    "name": "ipython",
    "version": 3
   },
   "file_extension": ".py",
   "mimetype": "text/x-python",
   "name": "python",
   "nbconvert_exporter": "python",
   "pygments_lexer": "ipython3",
   "version": "3.9.13"
  }
 },
 "nbformat": 4,
 "nbformat_minor": 1
}
